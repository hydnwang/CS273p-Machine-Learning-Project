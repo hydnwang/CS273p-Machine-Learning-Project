{
 "cells": [
  {
   "cell_type": "code",
   "execution_count": null,
   "metadata": {
    "colab": {
     "base_uri": "https://localhost:8080/",
     "height": 33
    },
    "colab_type": "code",
    "id": "bj_xBf8gMvzP",
    "outputId": "590d2a66-c8ee-42eb-e9a2-4ff409ce55f2"
   },
   "outputs": [],
   "source": [
    "import data_loader\n",
    "import numpy as np\n",
    "import pandas as pd\n",
    "import sklearn.preprocessing as preprocessing\n",
    "import matplotlib.pyplot as plt\n",
    "import sklearn.linear_model as linear_model\n",
    "from sklearn.metrics import accuracy_score\n",
    "from sklearn.preprocessing import OneHotEncoder\n",
    "# from sklearn.ensemble import RandomForestRegressor, GradientBoostingRegressor\n",
    "\n",
    "# np.random.seed(0)\n",
    "# np.__version__"
   ]
  },
  {
   "cell_type": "code",
   "execution_count": null,
   "metadata": {
    "colab": {},
    "colab_type": "code",
    "id": "Tl6qC4lYMvzg"
   },
   "outputs": [],
   "source": [
    "column_names = [\n",
    "     'age', 'workclass', 'fnlwgt', 'education', 'education-num', \n",
    "     'marital-status', 'occupation', 'relationship', 'race', 'sex', \n",
    "     'capital-gain', 'capital-loss', 'hours-per-week', 'native-country', 'salary']\n",
    "# df = pd.read_csv(\"data/adult.data\", header=None, names=column_names)\n",
    "# print(df.shape)\n",
    "# df.sample(n=3)"
   ]
  },
  {
   "cell_type": "code",
   "execution_count": null,
   "metadata": {
    "colab": {},
    "colab_type": "code",
    "id": "GXkmSYxQMvzu"
   },
   "outputs": [],
   "source": [
    "train, validation = data_loader.load_train_data('data/adult.data')\n",
    "train['train'] = 1\n",
    "train['test'] = 0\n",
    "# train.sample(n=3)"
   ]
  },
  {
   "cell_type": "code",
   "execution_count": null,
   "metadata": {},
   "outputs": [],
   "source": [
    "validation['train'] = 0\n",
    "validation['test'] = 0\n",
    "# validation.sample(n=3)"
   ]
  },
  {
   "cell_type": "code",
   "execution_count": null,
   "metadata": {
    "colab": {},
    "colab_type": "code",
    "id": "SugeMOEfMvzz"
   },
   "outputs": [],
   "source": [
    "test = data_loader.load_test_data('data/adult.test')\n",
    "test['train'] = 0\n",
    "test['test'] = 1\n",
    "# test.sample(n=3)"
   ]
  },
  {
   "cell_type": "code",
   "execution_count": null,
   "metadata": {},
   "outputs": [],
   "source": [
    "df_combined = pd.concat([train, validation, test])\n",
    "df_combined.columns = column_names + ['train','test']\n",
    "df_combined.sample(n=3)"
   ]
  },
  {
   "cell_type": "code",
   "execution_count": null,
   "metadata": {},
   "outputs": [],
   "source": [
    "for c in df_combined.columns:\n",
    "    df_combined[c] = df_combined[c].replace(' ?', np.nan)\n",
    "\n",
    "df_combined['salary'] = df_combined['salary'].replace(' <=50K.', ' <=50K')\n",
    "df_combined['salary'] = df_combined['salary'].replace(' <=50K', 0)\n",
    "df_combined['salary'] = df_combined['salary'].replace(' >50K.', ' >50K')\n",
    "df_combined['salary'] = df_combined['salary'].replace(' >50K', 1)\n",
    "df_combined.dropna(how='any',inplace=True)"
   ]
  },
  {
   "cell_type": "code",
   "execution_count": null,
   "metadata": {},
   "outputs": [],
   "source": [
    "df_combined['salary'].unique()"
   ]
  },
  {
   "cell_type": "code",
   "execution_count": null,
   "metadata": {},
   "outputs": [],
   "source": [
    "df_encoded = pd.get_dummies(df_combined)\n",
    "\n",
    "for i in df_encoded.columns:\n",
    "    print(i)"
   ]
  },
  {
   "cell_type": "code",
   "execution_count": null,
   "metadata": {},
   "outputs": [],
   "source": [
    "# df_encoded.to_csv('data/combined_adult.csv')"
   ]
  },
  {
   "cell_type": "code",
   "execution_count": null,
   "metadata": {},
   "outputs": [],
   "source": [
    "df_train = df_encoded[(df_encoded['train']==1) & (df_encoded['test']==0)].copy()\n",
    "df_valid = df_encoded[(df_encoded['train']==0) & (df_encoded['test']==0)].copy()\n",
    "df_test  = df_encoded[(df_encoded['train']==0) & (df_encoded['test']==1)].copy()"
   ]
  },
  {
   "cell_type": "code",
   "execution_count": null,
   "metadata": {},
   "outputs": [],
   "source": [
    "Y_train = df_train['salary'].copy()\n",
    "Y_valid = df_valid['salary'].copy()\n",
    "Y_test = df_test['salary'].copy()\n",
    "df_train.drop([\"train\", \"test\", \"salary\"], axis=1, inplace=True)\n",
    "df_valid.drop([\"train\", \"test\", \"salary\"], axis=1, inplace=True)\n",
    "df_test.drop([\"train\", \"test\", \"salary\"], axis=1, inplace=True)\n",
    "X_train = df_train.copy()\n",
    "X_valid = df_valid.copy()\n",
    "X_test = df_test.copy()"
   ]
  }
 ],
 "metadata": {
  "colab": {
   "collapsed_sections": [],
   "name": "CS273P - Project.ipynb",
   "provenance": [],
   "toc_visible": true,
   "version": "0.3.2"
  },
  "kernelspec": {
   "display_name": "Python 3",
   "language": "python",
   "name": "python3"
  },
  "language_info": {
   "codemirror_mode": {
    "name": "ipython",
    "version": 3
   },
   "file_extension": ".py",
   "mimetype": "text/x-python",
   "name": "python",
   "nbconvert_exporter": "python",
   "pygments_lexer": "ipython3",
   "version": "3.6.8"
  }
 },
 "nbformat": 4,
 "nbformat_minor": 1
}
