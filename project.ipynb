{
 "cells": [
  {
   "cell_type": "code",
   "execution_count": null,
   "metadata": {
    "colab": {
     "base_uri": "https://localhost:8080/",
     "height": 33
    },
    "colab_type": "code",
    "id": "bj_xBf8gMvzP",
    "outputId": "590d2a66-c8ee-42eb-e9a2-4ff409ce55f2"
   },
   "outputs": [],
   "source": [
    "import data_loader\n",
    "import numpy as np\n",
    "import pandas as pd\n",
    "import sklearn.preprocessing as preprocessing\n",
    "import matplotlib.pyplot as plt\n",
    "import sklearn.linear_model as linear_model\n",
    "from sklearn.metrics import accuracy_score\n",
    "from sklearn.preprocessing import OneHotEncoder\n",
    "from sklearn.linear_model import LogisticRegression\n",
    "from sklearn.ensemble import RandomForestClassifier\n",
    "from sklearn.tree import DecisionTreeClassifier\n",
    "from sklearn.ensemble import GradientBoostingClassifier\n",
    "# from sklearn.ensemble import RandomForestRegressor, GradientBoostingRegressor\n",
    "\n",
    "# np.random.seed(0)\n",
    "# np.__version__"
   ]
  },
  {
   "cell_type": "code",
   "execution_count": null,
   "metadata": {
    "colab": {},
    "colab_type": "code",
    "id": "Tl6qC4lYMvzg"
   },
   "outputs": [],
   "source": [
    "column_names = [\n",
    "     'age', 'workclass', 'fnlwgt', 'education', 'education-num', \n",
    "     'marital-status', 'occupation', 'relationship', 'race', 'sex', \n",
    "     'capital-gain', 'capital-loss', 'hours-per-week', 'native-country', 'salary']\n",
    "# df = pd.read_csv(\"data/adult.data\", header=None, names=column_names)\n",
    "# print(df.shape)\n",
    "# df.sample(n=3)"
   ]
  },
  {
   "cell_type": "code",
   "execution_count": null,
   "metadata": {
    "colab": {},
    "colab_type": "code",
    "id": "GXkmSYxQMvzu"
   },
   "outputs": [],
   "source": [
    "train, validation = data_loader.load_train_data('data/adult.data')\n",
    "train['train'] = 1\n",
    "train['test'] = 0\n",
    "# train.sample(n=3)"
   ]
  },
  {
   "cell_type": "code",
   "execution_count": null,
   "metadata": {},
   "outputs": [],
   "source": [
    "validation['train'] = 0\n",
    "validation['test'] = 0\n",
    "# validation.sample(n=3)"
   ]
  },
  {
   "cell_type": "code",
   "execution_count": null,
   "metadata": {
    "colab": {},
    "colab_type": "code",
    "id": "SugeMOEfMvzz"
   },
   "outputs": [],
   "source": [
    "test = data_loader.load_test_data('data/adult.test')\n",
    "test['train'] = 0\n",
    "test['test'] = 1\n",
    "# test.sample(n=3)"
   ]
  },
  {
   "cell_type": "code",
   "execution_count": null,
   "metadata": {},
   "outputs": [],
   "source": [
    "df_combined = pd.concat([train, validation, test])\n",
    "df_combined.columns = column_names + ['train','test']\n",
    "df_combined.sample(n=3)"
   ]
  },
  {
   "cell_type": "code",
   "execution_count": null,
   "metadata": {},
   "outputs": [],
   "source": [
    "for c in df_combined.columns:\n",
    "    df_combined[c] = df_combined[c].replace(' ?', np.nan)\n",
    "\n",
    "df_combined['salary'] = df_combined['salary'].replace(' <=50K.', ' <=50K')\n",
    "df_combined['salary'] = df_combined['salary'].replace(' <=50K', 0)\n",
    "df_combined['salary'] = df_combined['salary'].replace(' >50K.', ' >50K')\n",
    "df_combined['salary'] = df_combined['salary'].replace(' >50K', 1)\n",
    "df_combined.dropna(how='any',inplace=True)"
   ]
  },
  {
   "cell_type": "code",
   "execution_count": null,
   "metadata": {},
   "outputs": [],
   "source": [
    "df_combined['salary'].unique()"
   ]
  },
  {
   "cell_type": "code",
   "execution_count": null,
   "metadata": {},
   "outputs": [],
   "source": [
    "df_encoded = pd.get_dummies(df_combined)\n",
    "\n",
    "for i in df_encoded.columns:\n",
    "    print(i)"
   ]
  },
  {
   "cell_type": "code",
   "execution_count": null,
   "metadata": {},
   "outputs": [],
   "source": [
    "# df_encoded.to_csv('data/combined_adult.csv')"
   ]
  },
  {
   "cell_type": "code",
   "execution_count": null,
   "metadata": {},
   "outputs": [],
   "source": [
    "df_train = df_encoded[(df_encoded['train']==1) & (df_encoded['test']==0)].copy()\n",
    "df_valid = df_encoded[(df_encoded['train']==0) & (df_encoded['test']==0)].copy()\n",
    "df_test  = df_encoded[(df_encoded['train']==0) & (df_encoded['test']==1)].copy()"
   ]
  },
  {
   "cell_type": "code",
   "execution_count": null,
   "metadata": {},
   "outputs": [],
   "source": [
    "Y_train = df_train['salary'].copy()\n",
    "Y_valid = df_valid['salary'].copy()\n",
    "Y_test = df_test['salary'].copy()\n",
    "df_train.drop([\"train\", \"test\", \"salary\"], axis=1, inplace=True)\n",
    "df_valid.drop([\"train\", \"test\", \"salary\"], axis=1, inplace=True)\n",
    "df_test.drop([\"train\", \"test\", \"salary\"], axis=1, inplace=True)\n",
    "X_train = df_train.copy()\n",
    "X_valid = df_valid.copy()\n",
    "X_test = df_test.copy()"
   ]
  },
  {
   "cell_type": "code",
   "execution_count": null,
   "metadata": {},
   "outputs": [],
   "source": [
    "# Models\n",
    "#lr = LogisticRegression(solver='lbfgs', max_iter=500)\n",
    "dt = DecisionTreeClassifier()\n",
    "rf = RandomForestClassifier(n_estimators=200)\n",
    "gb = GradientBoostingClassifier(n_estimators=200)\n",
    "\n",
    "#models = [lr, dt, rf, gb]\n",
    "names = ['LR', 'Decision Tree','Random Forest', 'Gradient Boosting']"
   ]
  },
  {
   "cell_type": "code",
   "execution_count": null,
   "metadata": {},
   "outputs": [],
   "source": [
    "# Logistic Regression\n",
    "\n",
    "iter_val = [500, 1000, 5000, 10000]\n",
    "\n",
    "for i in range(len(iter_val)):\n",
    "    lr = LogisticRegression(solver='lbfgs', max_iter=iter_val[i])\n",
    "    print('Iterations: {}\\n'.format(iter_val[i]))\n",
    "    # Predict validation data\n",
    "    lr.fit(X_train, Y_train)\n",
    "    val_lr_prediction = lr.predict(X_valid)\n",
    "    val_lr_acc_score = accuracy_score(Y_valid, val_lr_prediction)\n",
    "    print('Validation - Model: {}, Accuracy: {}\\n'.format(names[0], val_lr_acc_score))\n",
    "    \n",
    "    # Predict test data\n",
    "    lr.fit(X_train, Y_train)\n",
    "    test_lr_prediction = lr.predict(X_test)\n",
    "    test_lr_acc_score = accuracy_score(Y_test, test_lr_prediction)\n",
    "    print('Test - Model: {}, Accuracy: {}\\n'.format(names[0], test_lr_acc_score))\n",
    "    \n",
    "    print('------------------\\n')"
   ]
  },
  {
   "cell_type": "code",
   "execution_count": null,
   "metadata": {},
   "outputs": [],
   "source": [
    "# Decision Tree\n",
    "\n",
    "# Predict validation data\n",
    "dt.fit(X_train, Y_train)\n",
    "val_dt_prediction = dt.predict(X_valid)\n",
    "val_dt_acc_score = accuracy_score(Y_valid, val_dt_prediction)\n",
    "print('Validation - Model: {}, Accuracy: {}'.format(names[1], val_dt_acc_score))\n",
    "\n",
    "# Predict test data\n",
    "dt.fit(X_train, Y_train)\n",
    "test_dt_prediction = dt.predict(X_test)\n",
    "test_dt_acc_score = accuracy_score(Y_test, test_dt_prediction)\n",
    "print('Test - Model: {}, Accuracy: {}'.format(names[1], test_dt_acc_score))"
   ]
  },
  {
   "cell_type": "code",
   "execution_count": null,
   "metadata": {},
   "outputs": [],
   "source": [
    "# Random Forest\n",
    "\n",
    "# Predict validation data\n",
    "rf.fit(X_train, Y_train)\n",
    "val_rf_prediction = rf.predict(X_valid)\n",
    "val_rf_acc_score = accuracy_score(Y_valid, val_rf_prediction)\n",
    "print('Validation - Model: {}, Accuracy: {}'.format(names[2], val_rf_acc_score))\n",
    "\n",
    "# Predict test data\n",
    "rf.fit(X_train, Y_train)\n",
    "test_rf_prediction = rf.predict(X_test)\n",
    "test_rf_acc_score = accuracy_score(Y_test, test_rf_prediction)\n",
    "print('Test - Model: {}, Accuracy: {}'.format(names[2], test_rf_acc_score))"
   ]
  },
  {
   "cell_type": "code",
   "execution_count": null,
   "metadata": {},
   "outputs": [],
   "source": [
    "# Gradient Boosting\n",
    "\n",
    "# Predict validation data\n",
    "gb.fit(X_train, Y_train)\n",
    "val_gb_prediction = gb.predict(X_valid)\n",
    "val_gb_acc_score = accuracy_score(Y_valid, val_gb_prediction)\n",
    "print('Validation - Model: {}, Accuracy: {}'.format(names[3], val_gb_acc_score))\n",
    "\n",
    "# Predict test data\n",
    "gb.fit(X_train, Y_train)\n",
    "test_gb_prediction = gb.predict(X_test)\n",
    "test_gb_acc_score = accuracy_score(Y_test, test_gb_prediction)\n",
    "print('Test - Model: {}, Accuracy: {}'.format(names[3], test_gb_acc_score))"
   ]
  },
  {
   "cell_type": "markdown",
   "metadata": {},
   "source": [
    "### Memo:"
   ]
  },
  {
   "cell_type": "code",
   "execution_count": null,
   "metadata": {},
   "outputs": [],
   "source": [
    "\"\"\"\n",
    "# Prediction on data\n",
    "print('Accuracy for validation data: \\n')\n",
    "\n",
    "for i in range(len(models)):\n",
    "    score = models[i].fit(X_train, Y_train)\n",
    "    prediction = models[i].predict(X_valid)\n",
    "    acc_score = accuracy_score(Y_valid, prediction)\n",
    "    print('-'*40)\n",
    "    print('Model: {}, Accuracy: {}'.format(names[i], acc_score))\n",
    "\"\"\"   "
   ]
  },
  {
   "cell_type": "code",
   "execution_count": null,
   "metadata": {},
   "outputs": [],
   "source": [
    "\"\"\"\n",
    "# Prediction on test data\n",
    "print('Accuracy for test data:\\n')\n",
    "\n",
    "for i in range(len(models)):\n",
    "    score = models[i].fit(X_train, Y_train)\n",
    "    prediction = models[i].predict(X_test)\n",
    "    acc_score = accuracy_score(Y_test, prediction)\n",
    "    print('-'*40)\n",
    "    print('Model: {}, Accuracy: {}'.format(names[i], acc_score))\n",
    "\"\"\""
   ]
  },
  {
   "cell_type": "code",
   "execution_count": null,
   "metadata": {},
   "outputs": [],
   "source": [
    "\"\"\"\n",
    "# Printing correlation:\n",
    "\n",
    "coefs = pd.Series(dt.feature_importances_, index=X_train.columns)\n",
    "print(coefs2.sort_values(ascending = False))\n",
    "\n",
    "coefs3 = pd.Series(rf.feature_importances_, index=X_train.columns)\n",
    "print(coefs3.sort_values(ascending = False))\n",
    "\n",
    "coefs4 = pd.Series(gb.feature_importances_, index=X_train.columns)\n",
    "print(coefs4.sort_values(ascending = False))\n",
    "\"\"\""
   ]
  }
 ],
 "metadata": {
  "colab": {
   "collapsed_sections": [],
   "name": "CS273P - Project.ipynb",
   "provenance": [],
   "toc_visible": true,
   "version": "0.3.2"
  },
  "kernelspec": {
   "display_name": "Python 3",
   "language": "python",
   "name": "python3"
  },
  "language_info": {
   "codemirror_mode": {
    "name": "ipython",
    "version": 3
   },
   "file_extension": ".py",
   "mimetype": "text/x-python",
   "name": "python",
   "nbconvert_exporter": "python",
   "pygments_lexer": "ipython3",
   "version": "3.6.5"
  }
 },
 "nbformat": 4,
 "nbformat_minor": 1
}
