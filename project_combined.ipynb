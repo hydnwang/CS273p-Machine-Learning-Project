{
 "cells": [
  {
   "cell_type": "markdown",
   "metadata": {
    "colab_type": "text",
    "id": "kqeEUTRFoKEK"
   },
   "source": [
    "## Data Pre-processing"
   ]
  },
  {
   "cell_type": "code",
   "execution_count": null,
   "metadata": {
    "colab": {},
    "colab_type": "code",
    "id": "bj_xBf8gMvzP"
   },
   "outputs": [],
   "source": [
    "# Import Modules\n",
    "\n",
    "import math\n",
    "import data_loader\n",
    "import numpy as np\n",
    "import pandas as pd\n",
    "from sklearn.preprocessing import LabelEncoder, StandardScaler\n",
    "import matplotlib.pyplot as plt\n",
    "import sklearn.linear_model as linear_model\n",
    "from sklearn.metrics import accuracy_score\n",
    "from sklearn.linear_model import LogisticRegression\n",
    "from sklearn.ensemble import RandomForestClassifier\n",
    "from sklearn.ensemble import GradientBoostingClassifier\n",
    "from sklearn.metrics import accuracy_score, roc_auc_score, roc_curve\n",
    "from sklearn.ensemble import RandomForestClassifier\n",
    "from sklearn.neural_network import MLPClassifier\n",
    "from sklearn.naive_bayes import GaussianNB\n",
    "from sklearn.model_selection import GridSearchCV"
   ]
  },
  {
   "cell_type": "code",
   "execution_count": null,
   "metadata": {
    "colab": {
     "base_uri": "https://localhost:8080/",
     "height": 302
    },
    "colab_type": "code",
    "executionInfo": {
     "elapsed": 26763,
     "status": "ok",
     "timestamp": 1560399567799,
     "user": {
      "displayName": "Pin-Ying Wu",
      "photoUrl": "",
      "userId": "00508333297801201371"
     },
     "user_tz": 420
    },
    "id": "Tl6qC4lYMvzg",
    "outputId": "b09e87e0-b274-42b9-a5b6-8cf319fd429a"
   },
   "outputs": [],
   "source": [
    "# Data Preparation\n",
    "\n",
    "# Define column names\n",
    "column_names = [\n",
    "     'age', 'workclass', 'fnlwgt', 'education', 'education-num', \n",
    "     'marital-status', 'occupation', 'relationship', 'race', 'sex', \n",
    "     'capital-gain', 'capital-loss', 'hours-per-week', 'native-country', 'salary']\n",
    "\n",
    "# Load and split data by data_loader\n",
    "train, validation = data_loader.load_train_data('data/adult.data')\n",
    "test = data_loader.load_test_data('data/adult.test')\n",
    "\n",
    "# Combined data to consolidate features\n",
    "train['train'], train['test'] = 1, 0\n",
    "validation['train'], validation['test'] = 0, 0\n",
    "test['train'], test['test'] = 0, 1\n",
    "combined = pd.concat([train, validation, test])\n",
    "combined.columns = column_names + ['train', 'test']\n",
    "\n",
    "# Convert label to numerical binary data\n",
    "combined['salary'] = combined['salary'].replace(' <=50K.', ' <=50K')\n",
    "combined['salary'] = combined['salary'].replace(' <=50K', 0)\n",
    "combined['salary'] = combined['salary'].replace(' >50K.', ' >50K')\n",
    "combined['salary'] = combined['salary'].replace(' >50K', 1)\n",
    "\n",
    "# Clean garbage\n",
    "for c in combined.columns:\n",
    "    combined[c] = combined[c].replace(' ?', np.nan)\n",
    "combined.dropna(how='any',inplace=True)\n",
    "\n",
    "print(combined.shape)\n",
    "combined.sample(n=3)"
   ]
  },
  {
   "cell_type": "code",
   "execution_count": null,
   "metadata": {
    "colab": {
     "base_uri": "https://localhost:8080/",
     "height": 53
    },
    "colab_type": "code",
    "executionInfo": {
     "elapsed": 26715,
     "status": "ok",
     "timestamp": 1560399567803,
     "user": {
      "displayName": "Pin-Ying Wu",
      "photoUrl": "",
      "userId": "00508333297801201371"
     },
     "user_tz": 420
    },
    "id": "YPrBwfeBoKEg",
    "outputId": "a5748d32-456d-4adf-c66b-5edea3924a25"
   },
   "outputs": [],
   "source": [
    "# Split X\n",
    "X_combined = pd.concat([combined.iloc[:, :-3], combined.iloc[:, -2:]], axis=1)\n",
    "print(X_combined.shape)\n",
    "\n",
    "# Split Y\n",
    "Y_combined = combined.loc[:,'salary':'test']\n",
    "print(Y_combined.shape)\n",
    "Y_train = Y_combined[(Y_combined['train']==1) & (Y_combined['test']==0)].copy()\n",
    "Y_valid = Y_combined[(Y_combined['train']==0) & (Y_combined['test']==0)].copy()\n",
    "Y_test  = Y_combined[(Y_combined['train']==0) & (Y_combined['test']==1)].copy()"
   ]
  },
  {
   "cell_type": "code",
   "execution_count": null,
   "metadata": {
    "colab": {
     "base_uri": "https://localhost:8080/",
     "height": 789
    },
    "colab_type": "code",
    "executionInfo": {
     "elapsed": 30612,
     "status": "ok",
     "timestamp": 1560399571748,
     "user": {
      "displayName": "Pin-Ying Wu",
      "photoUrl": "",
      "userId": "00508333297801201371"
     },
     "user_tz": 420
    },
    "id": "ndYYUHlfoKEo",
    "outputId": "ca2dc3e4-4da2-40fc-bde5-e03bb8550342"
   },
   "outputs": [],
   "source": [
    "# Plot feature distribution\n",
    "\n",
    "def plot_feature_distribution(df):\n",
    "    fig = plt.figure(figsize=(20,15))\n",
    "    cols = 5\n",
    "    rows = math.ceil(float(df.shape[1]) / cols)\n",
    "    for i, column in enumerate(df.columns):\n",
    "        if column in ['salary', 'train', 'test']: continue\n",
    "        ax = fig.add_subplot(rows, cols, i + 1)\n",
    "        ax.set_title(column)\n",
    "        if df.dtypes[column] == np.object:\n",
    "            df[column].value_counts().plot(kind=\"bar\", axes=ax)\n",
    "        else:\n",
    "            df[column].hist(axes=ax)\n",
    "            plt.xticks(rotation=\"vertical\")\n",
    "        plt.grid(True)\n",
    "    plt.subplots_adjust(hspace=0.7, wspace=0.2)\n",
    "    plt.show()\n",
    "\n",
    "# Plot\n",
    "plot_feature_distribution(X_combined)"
   ]
  },
  {
   "cell_type": "code",
   "execution_count": null,
   "metadata": {
    "colab": {},
    "colab_type": "code",
    "id": "5YxepVAtvBGM"
   },
   "outputs": [],
   "source": [
    "#Feature Modification\n",
    "FEAT_MOD = False\n",
    "\n",
    "if FEAT_MOD:\n",
    "    X_combined_m = X_combined.copy()\n",
    "    X_combined_m.loc[X_combined_m['native-country'] != ' United-States', 'native-country'] = 'Non-US'\n",
    "    X_combined_m.loc[X_combined_m['native-country'] == ' United-States', 'native-country'] = 'US'\n",
    "    X_combined_m['native-country'] = X_combined_m['native-country'].map({'US':1,'Non-US':0}).astype(int)\n",
    "\n",
    "    del X_combined_m['education-num']\n",
    "\n",
    "    print(X_combined_m.shape)\n",
    "    X_combined_m.head()"
   ]
  },
  {
   "cell_type": "code",
   "execution_count": null,
   "metadata": {
    "colab": {},
    "colab_type": "code",
    "id": "hJ0ds5xNoKEu"
   },
   "outputs": [],
   "source": [
    "# Encoding\n",
    "\n",
    "def number_encode_features(df):\n",
    "    result = df.copy()\n",
    "    for column in result.columns:\n",
    "        if column in ['train', 'test']: continue\n",
    "        if result.dtypes[column] == np.object:\n",
    "            # Fit label encoder and Transform labels to normalized encoding\n",
    "            result[column] = LabelEncoder().fit_transform(result[column])\n",
    "    return result\n",
    "\n",
    "# Numerical Encoding: feature labeling\n",
    "X_factorized = number_encode_features(X_combined)\n",
    "\n",
    "# One-hot Ecoding: feature spanning\n",
    "X_encoded = pd.get_dummies(X_combined)"
   ]
  },
  {
   "cell_type": "code",
   "execution_count": null,
   "metadata": {
    "colab": {},
    "colab_type": "code",
    "id": "jJ4kWAqioKEz"
   },
   "outputs": [],
   "source": [
    "# Normalizing Data\n",
    "\n",
    "# First check ranges of each feature\n",
    "# def summerize_data(df):\n",
    "#     for column in df.columns:\n",
    "#         print(column)\n",
    "#         if df.dtypes[column] == np.object: # Categorical data\n",
    "#             print(df[column].value_counts())\n",
    "#         else:\n",
    "#             print(df[column].describe() )\n",
    "#         print('\\n')\n",
    "# summerize_data(X_factorized)\n",
    "\n",
    "\n",
    "# scaler = StandardScaler()\n",
    "\n",
    "# Normalized factorized data scales\n",
    "# factorized_norm = pd.DataFrame(\n",
    "#     scaler.fit_transform(factorized.astype(float)), \n",
    "#     columns=factorized.columns\n",
    "# )\n",
    "# print(factorized_norm.shape)\n",
    "# Normalized all data scales\n",
    "# X_factorized_norm = X_factorized.copy()\n",
    "# col_names = X_factorized_norm.columns[:-2]\n",
    "# features = X_factorized_norm[col_names]\n",
    "# features = scaler.fit_transform(features.values.astype(float))\n",
    "# X_factorized_norm[col_names] = features\n",
    "\n",
    "\n",
    "# Normalized encoded data scales\n",
    "# encoded_norm = pd.DataFrame(\n",
    "#     scaler.fit_transform(encoded.astype(float)), \n",
    "#     columns=encoded.columns\n",
    "# )\n",
    "# print(encoded_norm.shape)"
   ]
  },
  {
   "cell_type": "code",
   "execution_count": null,
   "metadata": {
    "colab": {
     "base_uri": "https://localhost:8080/",
     "height": 53
    },
    "colab_type": "code",
    "executionInfo": {
     "elapsed": 30497,
     "status": "ok",
     "timestamp": 1560399571765,
     "user": {
      "displayName": "Pin-Ying Wu",
      "photoUrl": "",
      "userId": "00508333297801201371"
     },
     "user_tz": 420
    },
    "id": "RNUCUVsBoKE4",
    "outputId": "98395281-38b2-4cf0-a843-5c133b2fba71"
   },
   "outputs": [],
   "source": [
    "# Split data into X and Y with Train, Validation and Test\n",
    "\n",
    "X_train_n = X_factorized[(X_factorized['train']==1) & (X_factorized['test']==0)].copy()\n",
    "X_valid_n = X_factorized[(X_factorized['train']==0) & (X_factorized['test']==0)].copy()\n",
    "X_test_n  = X_factorized[(X_factorized['train']==0) & (X_factorized['test']==1)].copy()\n",
    "X_train_o = X_encoded[(X_encoded['train']==1) & (X_encoded['test']==0)].copy()\n",
    "X_valid_o = X_encoded[(X_encoded['train']==0) & (X_encoded['test']==0)].copy()\n",
    "X_test_o  = X_encoded[(X_encoded['train']==0) & (X_encoded['test']==1)].copy()\n",
    "\n",
    "X_list = [\n",
    "    X_train_n, X_valid_n, X_test_n, \n",
    "    X_train_o, X_valid_o, X_test_o\n",
    "]\n",
    "Y_list = [Y_train, Y_valid, Y_test]\n",
    "for x in X_list:\n",
    "    x.drop([\"train\", \"test\"], axis=1, inplace=True)\n",
    "    print(x.shape, end=', ')\n",
    "print('')\n",
    "    \n",
    "for y in Y_list:\n",
    "    y.drop([\"train\", \"test\"], axis=1, inplace=True)\n",
    "    print(y.shape, end=', ')\n",
    "print('')"
   ]
  },
  {
   "cell_type": "code",
   "execution_count": null,
   "metadata": {
    "colab": {
     "base_uri": "https://localhost:8080/",
     "height": 970
    },
    "colab_type": "code",
    "executionInfo": {
     "elapsed": 34683,
     "status": "ok",
     "timestamp": 1560399575984,
     "user": {
      "displayName": "Pin-Ying Wu",
      "photoUrl": "",
      "userId": "00508333297801201371"
     },
     "user_tz": 420
    },
    "id": "z7TFfqZ_oKE-",
    "outputId": "2cc9372b-1e2d-4670-a579-26e04bd9d501"
   },
   "outputs": [],
   "source": [
    "# Plot Correlation and Importance of Data Based on Models\n",
    "\n",
    "plt.figure(figsize=(18,6))\n",
    "lr = LogisticRegression(solver='lbfgs', max_iter=300)\n",
    "lr.fit(X_train_n, Y_train.iloc[:,0])\n",
    "coefs1 = pd.Series(lr.coef_[0], index=X_train_n.columns)\n",
    "plt.subplot(1,2,1)\n",
    "coefs1.sort_values().plot(kind=\"bar\")\n",
    "# plt.show()\n",
    "\n",
    "gb = GradientBoostingClassifier()\n",
    "gb.fit(X_train_n, Y_train.iloc[:,0])\n",
    "importance = gb.feature_importances_\n",
    "coefs2 = pd.Series(importance, index=X_train_n.columns)\n",
    "plt.subplot(1,2,2)\n",
    "coefs2.sort_values().plot(kind=\"bar\")\n",
    "plt.show()\n",
    "\n",
    "# Plot using data encoded with one-hot\n",
    "lr = LogisticRegression(solver='lbfgs', max_iter=300)\n",
    "lr.fit(X_train_o, Y_train.iloc[:,0])\n",
    "plt.figure(figsize=(20,6))\n",
    "coefs1 = pd.Series(lr.coef_[0], index=X_train_o.columns)\n",
    "coefs1.sort_values()[-20:].plot(kind=\"bar\")\n",
    "plt.show()"
   ]
  },
  {
   "cell_type": "markdown",
   "metadata": {
    "colab_type": "text",
    "id": "0K936UMIoKFF"
   },
   "source": [
    "----"
   ]
  },
  {
   "cell_type": "markdown",
   "metadata": {
    "colab_type": "text",
    "id": "kse8lKUjvBGa"
   },
   "source": [
    "### Model basic"
   ]
  },
  {
   "cell_type": "markdown",
   "metadata": {
    "colab_type": "text",
    "id": "I5M7YQ8vvBGb"
   },
   "source": [
    "See how performance for each model is like with default setting and no parameter tuning. Also, no unimportant features removed yet."
   ]
  },
  {
   "cell_type": "code",
   "execution_count": null,
   "metadata": {
    "colab": {},
    "colab_type": "code",
    "id": "7ns2Vz8Zw-T3"
   },
   "outputs": [],
   "source": [
    "model_names = ['LR','GaussianNB','Gradient Boosting', 'Neural Network']"
   ]
  },
  {
   "cell_type": "code",
   "execution_count": null,
   "metadata": {
    "colab": {
     "base_uri": "https://localhost:8080/",
     "height": 71
    },
    "colab_type": "code",
    "executionInfo": {
     "elapsed": 34640,
     "status": "ok",
     "timestamp": 1560399576005,
     "user": {
      "displayName": "Pin-Ying Wu",
      "photoUrl": "",
      "userId": "00508333297801201371"
     },
     "user_tz": 420
    },
    "id": "S1naLzSQvBGc",
    "outputId": "1853c570-8ca4-48c7-b1c8-5afe0295e5e6"
   },
   "outputs": [],
   "source": [
    "# Logistic Regression\n",
    "lr = LogisticRegression(solver='lbfgs', max_iter=1000)\n",
    "\n",
    "# Predict validation data\n",
    "lr.fit(X_train_o, Y_train.iloc[:,0])\n",
    "v_lr_pred = lr.predict(X_valid_o)\n",
    "v_lr_probs = lr.predict_proba(X_valid_o)\n",
    "v_lr_probs = v_lr_probs[:,1]\n",
    "v_lr_acc_score = accuracy_score(Y_valid.iloc[:,0], v_lr_pred)\n",
    "v_lr_auc_score = roc_auc_score(Y_valid.iloc[:,0], v_lr_probs)\n",
    "print('Validation - Model: {}, Accuracy: {}, AUC: {}'.format(model_names[0], v_lr_acc_score, v_lr_auc_score))\n",
    "\n",
    "# Predict test data\n",
    "lr.fit(X_train_o, Y_train.iloc[:,0])\n",
    "t_lr_pred = lr.predict(X_test_o)\n",
    "t_lr_probs = lr.predict_proba(X_test_o)\n",
    "t_lr_probs = t_lr_probs[:,1]\n",
    "t_lr_acc_score = accuracy_score(Y_test.iloc[:,0], t_lr_pred)\n",
    "t_lr_auc_score = roc_auc_score(Y_test.iloc[:,0], t_lr_probs)\n",
    "print('Test - Model: {}, Accuracy: {}, AUC:{}\\n'.format(model_names[0], t_lr_acc_score, t_lr_auc_score))"
   ]
  },
  {
   "cell_type": "code",
   "execution_count": null,
   "metadata": {
    "colab": {
     "base_uri": "https://localhost:8080/",
     "height": 71
    },
    "colab_type": "code",
    "executionInfo": {
     "elapsed": 35091,
     "status": "ok",
     "timestamp": 1560399576490,
     "user": {
      "displayName": "Pin-Ying Wu",
      "photoUrl": "",
      "userId": "00508333297801201371"
     },
     "user_tz": 420
    },
    "id": "2Ocz6RQJvBGe",
    "outputId": "343ce680-aea6-43c7-af95-ac2a243166a4"
   },
   "outputs": [],
   "source": [
    "# Gaussian Naive Bayes\n",
    "\n",
    "nb = GaussianNB()\n",
    "# Predict validation data\n",
    "nb.fit(X_train_o, Y_train.iloc[:,0])\n",
    "v_nb_pred = nb.predict(X_valid_o)\n",
    "v_nb_probs = nb.predict_proba(X_valid_o)\n",
    "v_nb_probs = v_nb_probs[:,1]\n",
    "v_nb_acc_score = accuracy_score(Y_valid.iloc[:,0], v_nb_pred)\n",
    "v_nb_auc_score = roc_auc_score(Y_valid.iloc[:,0], v_nb_probs)\n",
    "print('Validation - Model: {}, Accuracy: {}, AUC: {}'.format(model_names[1], v_nb_acc_score, v_nb_auc_score))\n",
    "# Predict test data\n",
    "nb.fit(X_train_o, Y_train.iloc[:,0])\n",
    "t_nb_pred = nb.predict(X_test_o)\n",
    "t_nb_probs = nb.predict_proba(X_test_o)\n",
    "t_nb_probs = t_nb_probs[:,1]\n",
    "t_nb_acc_score = accuracy_score(Y_test.iloc[:,0], t_nb_pred)\n",
    "t_nb_auc_score = roc_auc_score(Y_test.iloc[:,0], t_nb_probs)\n",
    "print('Test - Model: {}, Accuracy: {}, AUC: {}\\n'.format(model_names[1], t_nb_acc_score, t_nb_auc_score))"
   ]
  },
  {
   "cell_type": "code",
   "execution_count": null,
   "metadata": {
    "colab": {
     "base_uri": "https://localhost:8080/",
     "height": 53
    },
    "colab_type": "code",
    "executionInfo": {
     "elapsed": 49689,
     "status": "ok",
     "timestamp": 1560399591117,
     "user": {
      "displayName": "Pin-Ying Wu",
      "photoUrl": "",
      "userId": "00508333297801201371"
     },
     "user_tz": 420
    },
    "id": "F0v2bULbvBGg",
    "outputId": "d24a1cf2-bce6-4094-95e7-f285d3053a06"
   },
   "outputs": [],
   "source": [
    "# Gradient Boosting - no tuning\n",
    "\n",
    "gb = GradientBoostingClassifier()\n",
    "\n",
    "# Predict validation data\n",
    "gb.fit(X_train_o, Y_train.iloc[:,0])\n",
    "v_gb_pred = gb.predict(X_valid_o)\n",
    "v_gb_probs = gb.predict_proba(X_valid_o)\n",
    "v_gb_probs = v_gb_probs[:,1]\n",
    "v_gb_acc_score = accuracy_score(Y_valid.iloc[:,0], v_gb_pred)\n",
    "v_gb_auc_score = roc_auc_score(Y_valid.iloc[:,0], v_gb_probs)\n",
    "print('Validation - Model: {}, Accuracy: {}, AUC: {}'.format(model_names[2], v_gb_acc_score, v_gb_auc_score))\n",
    "\n",
    "# Predict test data\n",
    "gb.fit(X_train_o, Y_train.iloc[:,0])\n",
    "t_gb_pred = gb.predict(X_test_o)\n",
    "t_gb_probs = gb.predict_proba(X_test_o)\n",
    "t_gb_probs = t_gb_probs[:,1]\n",
    "t_gb_acc_score = accuracy_score(Y_test.iloc[:,0], t_gb_pred)\n",
    "t_gb_auc_score = roc_auc_score(Y_test.iloc[:,0], t_gb_probs)\n",
    "print('Test - Model: {}, Accuracy: {}, AUC: {}'.format(model_names[2], t_gb_acc_score, t_gb_auc_score))"
   ]
  },
  {
   "cell_type": "code",
   "execution_count": null,
   "metadata": {
    "colab": {
     "base_uri": "https://localhost:8080/",
     "height": 71
    },
    "colab_type": "code",
    "executionInfo": {
     "elapsed": 1104,
     "status": "ok",
     "timestamp": 1560404863254,
     "user": {
      "displayName": "Pin-Ying Wu",
      "photoUrl": "",
      "userId": "00508333297801201371"
     },
     "user_tz": 420
    },
    "id": "5T3s6NWwvBGj",
    "outputId": "72e3c17a-5d75-49a1-e10c-5abc34343670"
   },
   "outputs": [],
   "source": [
    "# Neural Network - no tuning\n",
    "\n",
    "mlp = MLPClassifier(max_iter=5000) # adjust max_iter to 5000 for convergence\n",
    "# Predict validation data\n",
    "mlp.fit(X_train_o, Y_train.iloc[:,0])\n",
    "v_mlp_pred = mlp.predict(X_valid_o)\n",
    "v_mlp_probs = mlp.predict_proba(X_valid_o)\n",
    "v_mlp_probs = v_mlp_probs[:,1]\n",
    "v_mlp_acc_score = accuracy_score(Y_valid.iloc[:,0], v_mlp_pred)\n",
    "v_mlp_auc_score = roc_auc_score(Y_valid.iloc[:,0], v_mlp_probs)\n",
    "print('Validation - Model: {}, Accuracy: {}, AUC: {}'.format(model_names[3], v_mlp_acc_score, v_mlp_auc_score))\n",
    "# Predict test data\n",
    "mlp.fit(X_train_o, Y_train.iloc[:,0])\n",
    "t_mlp_pred = mlp.predict(X_test_o)\n",
    "t_mlp_probs = mlp.predict_proba(X_test_o)\n",
    "t_mlp_probs = t_mlp_probs[:,1]\n",
    "t_mlp_acc_score = accuracy_score(Y_test.iloc[:,0], t_mlp_pred)\n",
    "t_mlp_auc_score = roc_auc_score(Y_test.iloc[:,0], t_mlp_probs)\n",
    "print('Test - Model: {}, Accuracy: {}, AUC: {}\\n'.format(model_names[3], t_mlp_acc_score, t_mlp_auc_score))"
   ]
  },
  {
   "cell_type": "code",
   "execution_count": null,
   "metadata": {
    "colab": {
     "base_uri": "https://localhost:8080/",
     "height": 323
    },
    "colab_type": "code",
    "executionInfo": {
     "elapsed": 1001,
     "status": "ok",
     "timestamp": 1560404863346,
     "user": {
      "displayName": "Pin-Ying Wu",
      "photoUrl": "",
      "userId": "00508333297801201371"
     },
     "user_tz": 420
    },
    "id": "ThpXIgh9vBGl",
    "outputId": "4363dfb8-533e-4339-b9f1-9fab99946ea5"
   },
   "outputs": [],
   "source": [
    "# Accuracy and AUC score comparison before unimportant feature remove\n",
    "print('Accuracy and AUC score comparison before unimportant feature remove\\n')\n",
    "print('Base models:\\n')\n",
    "print('Logistic Regression with no tuning (Validation) - Accuracy: {:2.5f}, AUC: {:2.5f}'.format(v_lr_acc_score, v_lr_auc_score))\n",
    "print('Gaussian Naive Bayes with no tuning (Validation) - Accuracy: {:2.5f}, AUC: {:2.5f}'.format(v_nb_acc_score, v_nb_auc_score))\n",
    "print('Logistic Regression with no tuning (Test) - Accuracy: {:2.5f}, AUC: {:2.5f}'.format(t_lr_acc_score, t_lr_auc_score))\n",
    "print('Gaussian Naive Bayes with no tuning (Test) - Accuracy: {:2.5f}, AUC: {:2.5f}'.format(t_nb_acc_score, t_nb_auc_score))\n",
    "\n",
    "print('\\n---------------------\\n')\n",
    "\n",
    "print('Advanced models:\\n')\n",
    "print('Gradient Boosting with no tuning (Validation) - Accuracy: {:2.5f}, AUC: {:2.5f}'.format(v_gb_acc_score, v_gb_auc_score))\n",
    "print('Neural Network with no tuning (Validation) - Accuracy: {:2.5f}, AUC: {:2.5f}'.format(v_mlp_acc_score, v_mlp_auc_score))\n",
    "print('Gradient Boosting with no tuning (Test) - Accuracy: {:2.5f}, AUC: {:2.5f}'.format(t_gb_acc_score, t_gb_auc_score))\n",
    "print('Neural Network with no tuning (Test) - Accuracy: {:2.5f}, AUC: {:2.5f}'.format(t_mlp_acc_score, t_mlp_auc_score))\n"
   ]
  },
  {
   "cell_type": "markdown",
   "metadata": {
    "colab_type": "text",
    "id": "4ovoEWvUvBGo"
   },
   "source": [
    "---"
   ]
  },
  {
   "cell_type": "markdown",
   "metadata": {
    "colab_type": "text",
    "id": "1Z_bu2LmoKFH"
   },
   "source": [
    "### Looking into the parameters"
   ]
  },
  {
   "cell_type": "code",
   "execution_count": null,
   "metadata": {
    "colab": {},
    "colab_type": "code",
    "id": "T9Fgv4LFoKFI"
   },
   "outputs": [],
   "source": [
    "names = ['LR','GaussianNB', 'Gradient Boosting', 'Neural Network']"
   ]
  },
  {
   "cell_type": "code",
   "execution_count": null,
   "metadata": {
    "colab": {
     "base_uri": "https://localhost:8080/",
     "height": 467
    },
    "colab_type": "code",
    "executionInfo": {
     "elapsed": 821,
     "status": "ok",
     "timestamp": 1560404863431,
     "user": {
      "displayName": "Pin-Ying Wu",
      "photoUrl": "",
      "userId": "00508333297801201371"
     },
     "user_tz": 420
    },
    "id": "raI3f6K8oKFN",
    "outputId": "30a44f87-6664-4c4f-8b05-d0659e9d6f8b"
   },
   "outputs": [],
   "source": [
    "# Logistic Regression\n",
    "c_val = [0.01, 0.1, 1, 10, 100]\n",
    "lr_val_accu = [None]*len(c_val)\n",
    "lr_test_accu = [None]*len(c_val)\n",
    "lr_val_auc = [None]*len(c_val)\n",
    "lr_test_auc = [None]*len(c_val)\n",
    "\n",
    "for i in range(len(c_val)):\n",
    "    lr = LogisticRegression(solver='liblinear', max_iter=1000, C=c_val[i], penalty='l1')\n",
    "    print('C value: {}'.format(c_val[i]))\n",
    "    # Predict validation data\n",
    "    lr.fit(X_train_o, Y_train.iloc[:,0])\n",
    "    val_lr_prediction = lr.predict(X_valid_o)\n",
    "    val_lr_probs = lr.predict_proba(X_valid_o)\n",
    "    val_lr_probs = val_lr_probs[:,1]\n",
    "    val_lr_acc_score = accuracy_score(Y_valid.iloc[:,0], val_lr_prediction)\n",
    "    val_lr_auc_score = roc_auc_score(Y_valid.iloc[:,0], val_lr_probs)\n",
    "    lr_val_accu[i] = val_lr_acc_score\n",
    "    lr_val_auc[i] = val_lr_auc_score\n",
    "    print('Validation - Model: {}, Accuracy: {}, AUC: {}'.format(names[0], val_lr_acc_score, val_lr_auc_score))\n",
    "    \n",
    "    # Predict test data\n",
    "    lr.fit(X_train_o, Y_train.iloc[:,0])\n",
    "    test_lr_prediction = lr.predict(X_test_o)\n",
    "    test_lr_probs = lr.predict_proba(X_test_o)\n",
    "    test_lr_probs = test_lr_probs[:,1]\n",
    "    test_lr_acc_score = accuracy_score(Y_test.iloc[:,0], test_lr_prediction)\n",
    "    test_lr_auc_score = roc_auc_score(Y_test.iloc[:,0], test_lr_probs)\n",
    "    lr_test_accu[i] = test_lr_acc_score\n",
    "    lr_test_auc[i] = test_lr_auc_score\n",
    "    print('Test - Model: {}, Accuracy: {}, AUC: {}\\n'.format(names[0], test_lr_acc_score, test_lr_auc_score))\n",
    "    print('------------------')"
   ]
  },
  {
   "cell_type": "code",
   "execution_count": null,
   "metadata": {
    "colab": {
     "base_uri": "https://localhost:8080/",
     "height": 422
    },
    "colab_type": "code",
    "executionInfo": {
     "elapsed": 658,
     "status": "ok",
     "timestamp": 1560404863441,
     "user": {
      "displayName": "Pin-Ying Wu",
      "photoUrl": "",
      "userId": "00508333297801201371"
     },
     "user_tz": 420
    },
    "id": "e2vzqzgroKFV",
    "outputId": "80a93121-5188-4c5e-b507-797a8f2ee635"
   },
   "outputs": [],
   "source": [
    "# Logistic Regression: c value accuracy and AUC plot\n",
    "\n",
    "plt.figure(figsize=(16, 5))\n",
    "# Accuracy\n",
    "plt.subplot(1,2,1)\n",
    "plt.title('Logistic Regression accuracy')\n",
    "plt.xlabel('C value')\n",
    "plt.ylabel('Accuracy')\n",
    "plt.plot(c_val, lr_val_accu, 'b-', label='Validation')\n",
    "plt.plot(c_val, lr_test_accu, 'y-', label='Test')\n",
    "plt.legend()\n",
    "\n",
    "# AUC Score\n",
    "plt.subplot(1,2,2)\n",
    "plt.title('Logistic Regression AUC score')\n",
    "plt.xlabel('C value')\n",
    "plt.ylabel('AUC score')\n",
    "plt.plot(c_val, lr_val_auc, 'b-', label='Validation')\n",
    "plt.plot(c_val, lr_test_auc, 'y-', label='Test')\n",
    "plt.legend()\n",
    "plt.show()"
   ]
  },
  {
   "cell_type": "code",
   "execution_count": null,
   "metadata": {
    "colab": {
     "base_uri": "https://localhost:8080/",
     "height": 467
    },
    "colab_type": "code",
    "executionInfo": {
     "elapsed": 520,
     "status": "ok",
     "timestamp": 1560404863499,
     "user": {
      "displayName": "Pin-Ying Wu",
      "photoUrl": "",
      "userId": "00508333297801201371"
     },
     "user_tz": 420
    },
    "id": "XC94a06-oKFb",
    "outputId": "64f69206-6c17-4e03-9e9d-970f9f613229"
   },
   "outputs": [],
   "source": [
    "# Gaussian Naive Bayes\n",
    "var_smooth = [1e-8, 1e-7, 1e-6, 1e-5, 1e-4]\n",
    "nb_val_accu = [None]*len(var_smooth)\n",
    "nb_test_accu = [None]*len(var_smooth)\n",
    "nb_val_auc = [None]*len(var_smooth)\n",
    "nb_test_auc = [None]*len(var_smooth)\n",
    "\n",
    "for i in range(len(var_smooth)):\n",
    "    nb = GaussianNB(var_smoothing=var_smooth[i])\n",
    "    print('Step value: {}'.format(var_smooth[i]))\n",
    "    \n",
    "    # Predict validation data\n",
    "    nb.fit(X_train_o, Y_train.iloc[:,0])\n",
    "    val_nb_prediction = nb.predict(X_valid_o)\n",
    "    val_nb_probs = nb.predict_proba(X_valid_o)\n",
    "    val_nb_probs = val_nb_probs[:,1]\n",
    "    val_nb_acc_score = accuracy_score(Y_valid.iloc[:,0], val_nb_prediction)\n",
    "    val_nb_auc_score = roc_auc_score(Y_valid.iloc[:,0], val_nb_probs)\n",
    "    nb_val_accu[i] = val_nb_acc_score\n",
    "    nb_val_auc[i] = val_nb_auc_score\n",
    "    print('Validation - Model: {}, Accuracy: {}, AUC: {}'.format(names[1], val_nb_acc_score, val_nb_auc_score))\n",
    "    \n",
    "    # Predict test data\n",
    "    nb.fit(X_train_o, Y_train.iloc[:,0])\n",
    "    test_nb_prediction = nb.predict(X_test_o)\n",
    "    test_nb_probs = nb.predict_proba(X_test_o)\n",
    "    test_nb_probs = test_nb_probs[:,1]\n",
    "    test_nb_acc_score = accuracy_score(Y_test.iloc[:,0], test_nb_prediction)\n",
    "    test_nb_auc_score = roc_auc_score(Y_test.iloc[:,0], test_nb_probs)\n",
    "    nb_test_accu[i] = test_nb_acc_score\n",
    "    nb_test_auc[i] = test_nb_auc_score\n",
    "    print('Test - Model: {}, Accuracy: {}, AUC: {}\\n'.format(names[1], test_nb_acc_score, test_nb_auc_score))\n",
    "    print('------------------')"
   ]
  },
  {
   "cell_type": "code",
   "execution_count": null,
   "metadata": {
    "colab": {
     "base_uri": "https://localhost:8080/",
     "height": 423
    },
    "colab_type": "code",
    "executionInfo": {
     "elapsed": 426,
     "status": "ok",
     "timestamp": 1560404863507,
     "user": {
      "displayName": "Pin-Ying Wu",
      "photoUrl": "",
      "userId": "00508333297801201371"
     },
     "user_tz": 420
    },
    "id": "o43Mf_k7oKFi",
    "outputId": "c599f17c-e26d-40f4-9f2e-3579762d6527"
   },
   "outputs": [],
   "source": [
    "# Gaussian Naive Bayes: var_smoothing accuracy and AUC plot\n",
    "plt.figure(figsize=(16,5))\n",
    "\n",
    "# Accuracy\n",
    "plt.subplot(1,2,1)\n",
    "plt.title('Gaussian Naive Bayes accuracy')\n",
    "plt.xlabel('Var_smoothing value')\n",
    "plt.ylabel('Accuracy')\n",
    "plt.plot(c_val, nb_val_accu, 'b-', label='Validation')\n",
    "plt.plot(c_val, nb_test_accu, 'y-', label='Test')\n",
    "plt.legend()\n",
    "\n",
    "# AUC\n",
    "plt.subplot(1,2,2)\n",
    "plt.title('Gaussian Naive Bayes AUC')\n",
    "plt.xlabel('Var_smoothing value')\n",
    "plt.ylabel('AUC score')\n",
    "plt.plot(c_val, nb_val_auc, 'b-', label='Validation')\n",
    "plt.plot(c_val, nb_test_auc, 'y-', label='Test')\n",
    "plt.legend()\n",
    "plt.show()"
   ]
  },
  {
   "cell_type": "code",
   "execution_count": null,
   "metadata": {
    "colab": {
     "base_uri": "https://localhost:8080/",
     "height": 557
    },
    "colab_type": "code",
    "executionInfo": {
     "elapsed": 674,
     "status": "ok",
     "timestamp": 1560407511187,
     "user": {
      "displayName": "Pin-Ying Wu",
      "photoUrl": "",
      "userId": "00508333297801201371"
     },
     "user_tz": 420
    },
    "id": "k_ZIebrMoKFs",
    "outputId": "076735bd-393f-4f5f-ec58-342fd2e894ef"
   },
   "outputs": [],
   "source": [
    "# Gradient Boosting - n_estimators\n",
    "stages = [50, 100, 200, 400, 800, 1600]\n",
    "gb_val_accu = [None]*len(stages)\n",
    "gb_test_accu = [None]*len(stages)\n",
    "gb_val_auc = [None]*len(stages)\n",
    "gb_test_auc = [None]*len(stages)\n",
    "\n",
    "for i in range(len(stages)):\n",
    "    gb = GradientBoostingClassifier(n_estimators=stages[i])\n",
    "    print('N_estimators: {}'.format(stages[i]))\n",
    "    \n",
    "    # Predict validation data\n",
    "    gb.fit(X_train_o, Y_train.iloc[:,0])\n",
    "    val_gb_prediction = gb.predict(X_valid_o)\n",
    "    val_gb_probs = gb.predict_proba(X_valid_o)\n",
    "    val_gb_probs = val_gb_probs[:,1]\n",
    "    val_gb_acc_score = accuracy_score(Y_valid.iloc[:,0], val_gb_prediction)\n",
    "    val_gb_auc_score = roc_auc_score(Y_valid.iloc[:,0], val_gb_probs)\n",
    "    gb_val_accu[i] = val_gb_acc_score\n",
    "    gb_val_auc[i] = val_gb_auc_score\n",
    "    print('Validation - Model: {}, Accuracy: {}, AUC: {}'.format(names[2], val_gb_acc_score, val_gb_auc_score))\n",
    "    \n",
    "    # Predict test data\n",
    "    gb.fit(X_train_o, Y_train.iloc[:,0])\n",
    "    test_gb_prediction = gb.predict(X_test_o)\n",
    "    test_gb_probs = gb.predict_proba(X_test_o)\n",
    "    test_gb_probs = test_gb_probs[:,1]\n",
    "    test_gb_acc_score = accuracy_score(Y_test.iloc[:,0], test_gb_prediction)\n",
    "    test_gb_auc_score = roc_auc_score(Y_test.iloc[:,0], test_gb_probs)\n",
    "    gb_test_accu[i] = test_gb_acc_score\n",
    "    gb_test_auc[i] = test_gb_auc_score\n",
    "    print('Test - Model: {}, Accuracy: {}, AUC: {}\\n'.format(names[2], test_gb_acc_score, test_gb_auc_score))\n",
    "    print('------------------')"
   ]
  },
  {
   "cell_type": "code",
   "execution_count": null,
   "metadata": {
    "colab": {
     "base_uri": "https://localhost:8080/",
     "height": 423
    },
    "colab_type": "code",
    "executionInfo": {
     "elapsed": 607,
     "status": "ok",
     "timestamp": 1560407511306,
     "user": {
      "displayName": "Pin-Ying Wu",
      "photoUrl": "",
      "userId": "00508333297801201371"
     },
     "user_tz": 420
    },
    "id": "SALWps8joKF0",
    "outputId": "c4e16008-98e5-41d0-f80f-b13f84bb1fb0"
   },
   "outputs": [],
   "source": [
    "# Gradient Boosting: n_estimator accuracy and AUC plot\n",
    "plt.figure(figsize=(16,5))\n",
    "\n",
    "# Accuracy\n",
    "plt.subplot(1,2,1)\n",
    "plt.title('Gradient Boosting accuracy')\n",
    "plt.xlabel('N_estimators')\n",
    "plt.ylabel('Accuracy')\n",
    "plt.plot(stages, gb_val_accu, 'b-', label='Validation')\n",
    "plt.plot(stages, gb_test_accu, 'y-', label='Test')\n",
    "plt.legend()\n",
    "\n",
    "# AUC\n",
    "plt.subplot(1,2,2)\n",
    "plt.title('Gradient Boosting AUC')\n",
    "plt.xlabel('N_estimators')\n",
    "plt.ylabel('AUC score')\n",
    "plt.plot(stages, gb_val_auc, 'b-', label='Validation')\n",
    "plt.plot(stages, gb_test_auc, 'y-', label='Test')\n",
    "plt.legend()\n",
    "plt.show()"
   ]
  },
  {
   "cell_type": "code",
   "execution_count": null,
   "metadata": {
    "colab": {
     "base_uri": "https://localhost:8080/",
     "height": 467
    },
    "colab_type": "code",
    "executionInfo": {
     "elapsed": 462,
     "status": "ok",
     "timestamp": 1560407511317,
     "user": {
      "displayName": "Pin-Ying Wu",
      "photoUrl": "",
      "userId": "00508333297801201371"
     },
     "user_tz": 420
    },
    "id": "WKK4OFBCswW7",
    "outputId": "c3e2855f-06f5-4182-9a7a-84abf565239d"
   },
   "outputs": [],
   "source": [
    "# Gradient Boosting - learning rate\n",
    "learn = [0.1, 0.2, 0.3, 0.4, 0.5]\n",
    "gb_val_accu4 = [None]*len(learn)\n",
    "gb_test_accu4 = [None]*len(learn)\n",
    "gb_val_auc4 = [None]*len(learn)\n",
    "gb_test_auc4 = [None]*len(learn)\n",
    "\n",
    "for i in range(len(learn)):\n",
    "    gb4 = GradientBoostingClassifier(learning_rate=learn[i])\n",
    "    print('Learning rate: {}'.format(learn[i]))\n",
    "    \n",
    "    # Predict validation data\n",
    "    gb4.fit(X_train_o, Y_train.iloc[:,0])\n",
    "    val_gb_prediction4 = gb4.predict(X_valid_o)\n",
    "    val_gb_probs4 = gb4.predict_proba(X_valid_o)\n",
    "    val_gb_probs4 = val_gb_probs4[:,1]\n",
    "    val_gb_acc_score4 = accuracy_score(Y_valid.iloc[:,0], val_gb_prediction4)\n",
    "    val_gb_auc_score4 = roc_auc_score(Y_valid.iloc[:,0], val_gb_probs4)\n",
    "    gb_val_accu4[i] = val_gb_acc_score4\n",
    "    gb_val_auc4[i] = val_gb_auc_score4\n",
    "    print('Validation - Model: {}, Accuracy: {}, AUC: {}'.format(names[2], val_gb_acc_score4, val_gb_auc_score4))\n",
    "    \n",
    "    # Predict test data\n",
    "    gb4.fit(X_train_o, Y_train.iloc[:,0])\n",
    "    test_gb_prediction4 = gb4.predict(X_test_o)\n",
    "    test_gb_probs4 = gb4.predict_proba(X_test_o)\n",
    "    test_gb_probs4 = test_gb_probs4[:,1]\n",
    "    test_gb_acc_score4 = accuracy_score(Y_test.iloc[:,0], test_gb_prediction4)\n",
    "    test_gb_auc_score4 = roc_auc_score(Y_test.iloc[:,0], test_gb_probs4)\n",
    "    gb_test_accu4[i] = test_gb_acc_score4\n",
    "    gb_test_auc4[i] = test_gb_auc_score4\n",
    "    print('Test - Model: {}, Accuracy: {}, AUC: {}\\n'.format(names[2], test_gb_acc_score4, test_gb_auc_score4))\n",
    "    print('------------------')"
   ]
  },
  {
   "cell_type": "code",
   "execution_count": null,
   "metadata": {
    "colab": {
     "base_uri": "https://localhost:8080/",
     "height": 422
    },
    "colab_type": "code",
    "executionInfo": {
     "elapsed": 424,
     "status": "ok",
     "timestamp": 1560407511366,
     "user": {
      "displayName": "Pin-Ying Wu",
      "photoUrl": "",
      "userId": "00508333297801201371"
     },
     "user_tz": 420
    },
    "id": "GAdNR2UrswjJ",
    "outputId": "e2b873f9-d5e0-483b-f73b-7244f82fb1bd"
   },
   "outputs": [],
   "source": [
    "# Gradient Boosting: learning rate accuracy and AUC plot\n",
    "plt.figure(figsize=(16,5))\n",
    "\n",
    "# Accuracy\n",
    "plt.subplot(1,2,1)\n",
    "plt.title('Gradient Boosting accuracy')\n",
    "plt.xlabel('Learning rate')\n",
    "plt.ylabel('Accuracy')\n",
    "plt.plot(learn, gb_val_accu4, 'b-', label='Validation')\n",
    "plt.plot(learn, gb_test_accu4, 'y-', label='Test')\n",
    "plt.legend()\n",
    "\n",
    "# AUC\n",
    "plt.subplot(1,2,2)\n",
    "plt.title('Gradient Boosting AUC')\n",
    "plt.xlabel('Learning rate')\n",
    "plt.ylabel('AUC score')\n",
    "plt.plot(learn, gb_val_auc4, 'b-', label='Validation')\n",
    "plt.plot(learn, gb_test_auc4, 'y-', label='Test')\n",
    "plt.legend()\n",
    "plt.show()"
   ]
  },
  {
   "cell_type": "code",
   "execution_count": null,
   "metadata": {
    "colab": {},
    "colab_type": "code",
    "id": "RDFImTRyovkm"
   },
   "outputs": [],
   "source": [
    "names = ['LR','GaussianNB', 'Gradient Boosting', 'Neural Network']"
   ]
  },
  {
   "cell_type": "code",
   "execution_count": null,
   "metadata": {
    "colab": {
     "base_uri": "https://localhost:8080/",
     "height": 215
    },
    "colab_type": "code",
    "id": "Jk3nKkHQ8BH0",
    "outputId": "dc648bce-80a2-4ec1-a967-99b14a0c3a86"
   },
   "outputs": [],
   "source": [
    "# Neural Network - tolerance\n",
    "\n",
    "tol = [1e-5, 1e-4, 1e-3, 1e-2, 1e-1]\n",
    "mlp_val_accu3 = [None]*len(tol)\n",
    "mlp_test_accu3 = [None]*len(tol)\n",
    "mlp_val_auc3 = [None]*len(tol)\n",
    "mlp_test_auc3 = [None]*len(tol)\n",
    "\n",
    "for i in range(len(tol)):\n",
    "    mlp3 = MLPClassifier(tol=tol[i], max_iter=5000) # max_iter=5000 for convergence purpose\n",
    "    print('Tolerance: {}'.format(tol[i]))\n",
    "    \n",
    "    # Predict validation data\n",
    "    mlp3.fit(X_train_o, Y_train.iloc[:,0])\n",
    "    val_mlp_prediction3 = mlp3.predict(X_valid_o)\n",
    "    val_mlp_probs3 = mlp3.predict_proba(X_valid_o)\n",
    "    val_mlp_probs3 = val_mlp_probs3[:,1]\n",
    "    val_mlp_acc_score3 = accuracy_score(Y_valid.iloc[:,0], val_mlp_prediction3)\n",
    "    val_mlp_auc_score3 = roc_auc_score(Y_valid.iloc[:,0], val_mlp_probs3)\n",
    "    mlp_val_accu3[i] = val_mlp_acc_score3\n",
    "    mlp_val_auc3[i] = val_mlp_auc_score3\n",
    "    print('Validation - Model: {}, Accuracy: {}, AUC: {}'.format(names[3], val_mlp_acc_score3, val_mlp_auc_score3))\n",
    "    \n",
    "    # Predict test data\n",
    "    mlp3.fit(X_train_o, Y_train.iloc[:,0])\n",
    "    test_mlp_prediction3 = mlp3.predict(X_test_o)\n",
    "    test_mlp_probs3 = mlp3.predict_proba(X_test_o)\n",
    "    test_mlp_probs3 = test_mlp_probs3[:,1]\n",
    "    test_mlp_acc_score3 = accuracy_score(Y_test.iloc[:,0], test_mlp_prediction3)\n",
    "    test_mlp_auc_score3 = roc_auc_score(Y_test.iloc[:,0], test_mlp_probs3)\n",
    "    mlp_test_accu3[i] = test_mlp_acc_score3\n",
    "    mlp_test_auc3[i] = test_mlp_auc_score3\n",
    "    print('Test - Model: {}, Accuracy: {}, AUC: {}\\n'.format(names[3], test_mlp_acc_score3, test_mlp_auc_score3))"
   ]
  },
  {
   "cell_type": "code",
   "execution_count": null,
   "metadata": {
    "colab": {},
    "colab_type": "code",
    "id": "hPQ3UV3q8BUX"
   },
   "outputs": [],
   "source": [
    "# Neural Network: tolerance accuracy and AUC plot\n",
    "plt.figure(figsize=(16,5))\n",
    "\n",
    "# Accuracy\n",
    "plt.subplot(1,2,1)\n",
    "plt.title('MLPClassifer accuracy')\n",
    "plt.xlabel('Tolerance')\n",
    "plt.ylabel('Accuracy')\n",
    "plt.plot(tol, mlp_val_accu3, 'b-', label='Validation')\n",
    "plt.plot(tol, mlp_test_accu3, 'y-', label='Test')\n",
    "plt.legend()\n",
    "\n",
    "# AUC\n",
    "plt.subplot(1,2,2)\n",
    "plt.title('MLPClassifer AUC')\n",
    "plt.xlabel('Tolerance')\n",
    "plt.ylabel('AUC score')\n",
    "plt.plot(tol, mlp_val_auc3, 'b-', label='Validation')\n",
    "plt.plot(tol, mlp_test_auc3, 'y-', label='Test')\n",
    "plt.legend()\n",
    "plt.show()"
   ]
  },
  {
   "cell_type": "code",
   "execution_count": null,
   "metadata": {
    "colab": {},
    "colab_type": "code",
    "id": "yVEsXmuJfK2s"
   },
   "outputs": [],
   "source": [
    "# Neural Network - max_iter value\n",
    "\n",
    "max_iter = [5000, 6000, 7000, 8000, 10000]\n",
    "mlp_val_accu4 = [None]*len(max_iter)\n",
    "mlp_test_accu4 = [None]*len(max_iter)\n",
    "mlp_val_auc4 = [None]*len(max_iter)\n",
    "mlp_test_auc4 = [None]*len(max_iter)\n",
    "\n",
    "for i in range(len(max_iter)):\n",
    "    mlp4 = MLPClassifier(max_iter=max_iter[i])\n",
    "    print('max_iter: {}'.format(max_iter[i]))\n",
    "    \n",
    "    # Predict validation data\n",
    "    mlp4.fit(X_train_o, Y_train.iloc[:,0])\n",
    "    val_mlp_prediction4 = mlp4.predict(X_valid_o)\n",
    "    val_mlp_probs4 = mlp4.predict_proba(X_valid_o)\n",
    "    val_mlp_probs4 = val_mlp_probs4[:,1]\n",
    "    val_mlp_acc_score4 = accuracy_score(Y_valid.iloc[:,0], val_mlp_prediction4)\n",
    "    val_mlp_auc_score4 = roc_auc_score(Y_valid.iloc[:,0], val_mlp_probs4)\n",
    "    mlp_val_accu4[i] = val_mlp_acc_score4\n",
    "    mlp_val_auc4[i] = val_mlp_auc_score4\n",
    "    print('Validation - Model: {}, Accuracy: {}, AUC: {}'.format(names[3], val_mlp_acc_score4, val_mlp_auc_score4))\n",
    "    \n",
    "    # Predict test data\n",
    "    mlp4.fit(X_train_o, Y_train.iloc[:,0])\n",
    "    test_mlp_prediction4 = mlp4.predict(X_test_o)\n",
    "    test_mlp_probs4 = mlp4.predict_proba(X_test_o)\n",
    "    test_mlp_probs4 = test_mlp_probs4[:,1]\n",
    "    test_mlp_acc_score4 = accuracy_score(Y_test.iloc[:,0], test_mlp_prediction4)\n",
    "    test_mlp_auc_score4 = roc_auc_score(Y_test.iloc[:,0], test_mlp_probs4)\n",
    "    mlp_test_accu4[i] = test_mlp_acc_score4\n",
    "    mlp_test_auc4[i] = test_mlp_auc_score4\n",
    "    print('Test - Model: {}, Accuracy: {}, AUC: {}\\n'.format(names[3], test_mlp_acc_score4, test_mlp_auc_score4))"
   ]
  },
  {
   "cell_type": "code",
   "execution_count": null,
   "metadata": {
    "colab": {},
    "colab_type": "code",
    "id": "b3ZrS9VYL5Rg"
   },
   "outputs": [],
   "source": [
    "# Neural Network: max_iter accuracy and AUC plot\n",
    "plt.figure(figsize=(16,5))\n",
    "\n",
    "# Accuracy\n",
    "plt.subplot(1,2,1)\n",
    "plt.title('MLPClassifer accuracy')\n",
    "plt.xlabel('Max iterations')\n",
    "plt.ylabel('Accuracy')\n",
    "plt.plot(max_iter, mlp_val_accu4, 'b-', label='Validation')\n",
    "plt.plot(max_iter, mlp_test_accu4, 'y-', label='Test')\n",
    "plt.legend()\n",
    "\n",
    "# AUC\n",
    "plt.subplot(1,2,2)\n",
    "plt.title('MLPClassifer AUC')\n",
    "plt.xlabel('Max iterations')\n",
    "plt.ylabel('AUC score')\n",
    "plt.plot(max_iter, mlp_val_auc4, 'b-', label='Validation')\n",
    "plt.plot(max_iter, mlp_test_auc4, 'y-', label='Test')\n",
    "plt.legend()\n",
    "plt.show()"
   ]
  },
  {
   "cell_type": "markdown",
   "metadata": {
    "colab_type": "text",
    "id": "d5XTVdObvBHh"
   },
   "source": [
    "---"
   ]
  },
  {
   "cell_type": "markdown",
   "metadata": {
    "colab_type": "text",
    "id": "BBe3SF4CvBHh"
   },
   "source": [
    "### Model tuning"
   ]
  },
  {
   "cell_type": "markdown",
   "metadata": {
    "colab_type": "text",
    "id": "_ptaUTrLvBHi"
   },
   "source": [
    "Try tuning different parameters for each model and see which parameter(s) are better accuracy and AUC score performance using GridSearchCV."
   ]
  },
  {
   "cell_type": "code",
   "execution_count": null,
   "metadata": {
    "colab": {},
    "colab_type": "code",
    "id": "7lQWHhcCvBIP"
   },
   "outputs": [],
   "source": [
    "names = ['LR','GaussianNB', 'Gradient Boosting', 'Neural Network']"
   ]
  },
  {
   "cell_type": "code",
   "execution_count": null,
   "metadata": {
    "colab": {},
    "colab_type": "code",
    "id": "WhSENGsbPWuX"
   },
   "outputs": [],
   "source": [
    "# Logistic Regression parameter tuning\n",
    "lr = LogisticRegression(solver='liblinear', max_iter=1000, penalty='l1')\n",
    "\n",
    "lr_grid = {\n",
    "    'C': [0.01, 0.1, 1, 10, 100],\n",
    "}\n",
    "\n",
    "scoring = {'AUC': 'roc_auc', 'Accuracy': 'accuracy'}\n",
    "\n",
    "# Grid Search for Logistic Regression\n",
    "gd_lr = GridSearchCV(estimator=lr, param_grid=lr_grid, scoring=scoring, cv=5, n_jobs=-1, refit='Accuracy')\n",
    "lr_res = gd_lr.fit(X_train_o, Y_train.iloc[:,0])\n",
    "val_lr_prediction = gd_lr.predict(X_valid_o)\n",
    "val_lr_probs = gd_lr.predict_proba(X_valid_o)\n",
    "val_lr_probs = val_lr_probs[:,1]\n",
    "val_lr_acc_score = accuracy_score(Y_valid.iloc[:,0], val_lr_prediction)\n",
    "val_lr_auc_score = roc_auc_score(Y_valid.iloc[:,0], val_lr_probs)\n",
    "\n",
    "test_lr_prediction = gd_lr.predict(X_valid_o)\n",
    "test_lr_probs = gd_lr.predict_proba(X_valid_o)\n",
    "test_lr_probs = test_lr_probs[:,1]\n",
    "test_lr_acc_score = accuracy_score(Y_valid.iloc[:,0], test_lr_prediction)\n",
    "test_lr_auc_score = roc_auc_score(Y_valid.iloc[:,0], test_lr_probs)"
   ]
  },
  {
   "cell_type": "code",
   "execution_count": null,
   "metadata": {
    "colab": {},
    "colab_type": "code",
    "id": "f3zPH8XVPWp7"
   },
   "outputs": [],
   "source": [
    "# Print Logistic Regression results\n",
    "print('Validation - Model: {}, Accuracy: {}, AUC: {}'.format(names[0], val_lr_acc_score, val_lr_auc_score))\n",
    "print('Test - Model: {}, Accuracy: {}, AUC: {}'.format(names[0], test_lr_acc_score, test_lr_auc_score))\n",
    "print(\"Best parameter(s) for %s: %s\" % (names[0], lr_res.best_params_))"
   ]
  },
  {
   "cell_type": "code",
   "execution_count": null,
   "metadata": {
    "colab": {},
    "colab_type": "code",
    "id": "7fyYnt89PWk3"
   },
   "outputs": [],
   "source": [
    "# Gaussian Naive Bayes parameter tuning\n",
    "nb = GaussianNB()\n",
    "\n",
    "nb_grid = {\n",
    "    'var_smoothing': [1e-8, 1e-7, 1e-6, 1e-5, 1e-4]\n",
    "}\n",
    "\n",
    "scoring = {'AUC': 'roc_auc', 'Accuracy': 'accuracy'}\n",
    "\n",
    "# Grid Search for Naives Bayes\n",
    "gd_nb = GridSearchCV(estimator=nb, param_grid=nb_grid, scoring=scoring, cv=5, n_jobs=-1, refit='Accuracy')\n",
    "nb_res = gd_nb.fit(X_train_o, Y_train.iloc[:,0])\n",
    "val_nb_prediction = gd_nb.predict(X_valid_o)\n",
    "val_nb_probs = gd_nb.predict_proba(X_valid_o)\n",
    "val_nb_probs = val_nb_probs[:,1]\n",
    "val_nb_acc_score = accuracy_score(Y_valid.iloc[:,0], val_nb_prediction)\n",
    "val_nb_auc_score = roc_auc_score(Y_valid.iloc[:,0], val_nb_probs)\n",
    "\n",
    "test_nb_prediction = gd_nb.predict(X_valid_o)\n",
    "test_nb_probs = gd_nb.predict_proba(X_valid_o)\n",
    "test_nb_probs = test_nb_probs[:,1]\n",
    "test_nb_acc_score = accuracy_score(Y_valid.iloc[:,0], test_nb_prediction)\n",
    "test_nb_auc_score = roc_auc_score(Y_valid.iloc[:,0], test_nb_probs)"
   ]
  },
  {
   "cell_type": "code",
   "execution_count": null,
   "metadata": {
    "colab": {},
    "colab_type": "code",
    "id": "NHqycMhTPWe4"
   },
   "outputs": [],
   "source": [
    "# Print Gaussian Naive Bayes results\n",
    "print('Validation - Model: {}, Accuracy: {}, AUC: {}'.format(names[1], val_nb_acc_score, val_nb_auc_score))\n",
    "print('Test - Model: {}, Accuracy: {}, AUC: {}\\n'.format(names[1], test_nb_acc_score, test_nb_auc_score))\n",
    "print(\"Best parameter(s) for %s: %s\" % (names[1], nb_res.best_params_))"
   ]
  },
  {
   "cell_type": "code",
   "execution_count": null,
   "metadata": {
    "colab": {},
    "colab_type": "code",
    "id": "2SzP0ArUPWXc"
   },
   "outputs": [],
   "source": [
    "# Gradient Boosting parameter tuning\n",
    "gb = GradientBoostingClassifier()\n",
    "\n",
    "gb_grid = {\n",
    "    'n_estimators': [50, 100, 200, 400, 800, 1600],\n",
    "    'learning_rate': [0.1, 0.2, 0.3, 0.4, 0.5]\n",
    "}\n",
    "\n",
    "scoring = {'AUC': 'roc_auc', 'Accuracy': 'accuracy'}\n",
    "\n",
    "# Grid Search for Gradient Boosting\n",
    "gd_gb = GridSearchCV(estimator=gb, param_grid=gb_grid, scoring=scoring, cv=5, n_jobs=-1, refit='Accuracy')\n",
    "gb_res = gd_gb.fit(X_train_o, Y_train.iloc[:,0])\n",
    "val_gb_prediction = gd_gb.predict(X_valid_o)\n",
    "val_gb_probs = gd_gb.predict_proba(X_valid_o)\n",
    "val_gb_probs = val_gb_probs[:,1]\n",
    "val_gb_acc_score = accuracy_score(Y_valid.iloc[:,0], val_gb_prediction)\n",
    "val_gb_auc_score = roc_auc_score(Y_valid.iloc[:,0], val_gb_probs)\n",
    "\n",
    "test_gb_prediction = gd_gb.predict(X_valid_o)\n",
    "test_gb_probs = gd_gb.predict_proba(X_valid_o)\n",
    "test_gb_probs = test_gb_probs[:,1]\n",
    "test_gb_acc_score = accuracy_score(Y_valid.iloc[:,0], test_gb_prediction)\n",
    "test_gb_auc_score = roc_auc_score(Y_valid.iloc[:,0], test_gb_probs)"
   ]
  },
  {
   "cell_type": "code",
   "execution_count": null,
   "metadata": {
    "colab": {},
    "colab_type": "code",
    "id": "GSXkqJ7qPvxg"
   },
   "outputs": [],
   "source": [
    "# Print Gradient Boosting results\n",
    "print('Validation - Model: {}, Accuracy: {}, AUC: {}'.format(names[2], val_gb_acc_score, val_gb_auc_score))\n",
    "print('Test - Model: {}, Accuracy: {}, AUC: {}\\n'.format(names[2], test_gb_acc_score, test_gb_auc_score))\n",
    "print(\"Best parameter(s) for %s: %s\" % (names[2], gb_res.best_params_))"
   ]
  },
  {
   "cell_type": "code",
   "execution_count": null,
   "metadata": {
    "colab": {},
    "colab_type": "code",
    "id": "W2Rkt5DlPvsx"
   },
   "outputs": [],
   "source": [
    "# Neural Network parameter tuning\n",
    "mlp = MLPClassifier()\n",
    "\n",
    "mlp_grid = {\n",
    "    'tol': [1e-5, 1e-4, 1e-3, 1e-2, 1e-1],\n",
    "    'max_iter': [5000, 6000, 7000, 8000, 10000]\n",
    "}\n",
    "\n",
    "scoring = {'AUC': 'roc_auc', 'Accuracy': 'accuracy'}\n",
    "\n",
    "# Grid Search for Neural Network\n",
    "gd_mlp = GridSearchCV(estimator=mlp, param_grid=mlp_grid, scoring=scoring, cv=5, n_jobs=-1, refit='Accuracy')\n",
    "mlp_res = gd_mlp.fit(X_train_o, Y_train.iloc[:,0])\n",
    "val_mlp_prediction = gd_mlp.predict(X_valid_o)\n",
    "val_mlp_probs = gd_mlp.predict_proba(X_valid_o)\n",
    "val_mlp_probs = val_mlp_probs[:,1]\n",
    "val_mlp_acc_score = accuracy_score(Y_valid.iloc[:,0], val_mlp_prediction)\n",
    "val_mlp_auc_score = roc_auc_score(Y_valid.iloc[:,0], val_mlp_probs)\n",
    "\n",
    "test_mlp_prediction = gd_mlp.predict(X_valid_o)\n",
    "test_mlp_probs = gd_mlp.predict_proba(X_valid_o)\n",
    "test_mlp_probs = test_mlp_probs[:,1]\n",
    "test_mlp_acc_score = accuracy_score(Y_valid.iloc[:,0], test_mlp_prediction)\n",
    "test_mlp_auc_score = roc_auc_score(Y_valid.iloc[:,0], test_mlp_probs)"
   ]
  },
  {
   "cell_type": "code",
   "execution_count": null,
   "metadata": {
    "colab": {},
    "colab_type": "code",
    "id": "OS6siyQBPvnv"
   },
   "outputs": [],
   "source": [
    "# Print Neural Network results\n",
    "print('Validation - Model: {}, Accuracy: {}, AUC: {}'.format(names[3], val_mlp_acc_score, val_mlp_auc_score))\n",
    "print('Test - Model: {}, Accuracy: {}, AUC: {}\\n'.format(names[3], test_mlp_acc_score, test_mlp_auc_score))\n",
    "print(\"Best parameter(s) for %s: %s\" % (names[3], mlp_res.best_params_))"
   ]
  }
 ],
 "metadata": {
  "accelerator": "GPU",
  "colab": {
   "collapsed_sections": [],
   "name": "project_combined.ipynb",
   "provenance": [],
   "version": "0.3.2"
  },
  "kernelspec": {
   "display_name": "Python 3",
   "language": "python",
   "name": "python3"
  },
  "language_info": {
   "codemirror_mode": {
    "name": "ipython",
    "version": 3
   },
   "file_extension": ".py",
   "mimetype": "text/x-python",
   "name": "python",
   "nbconvert_exporter": "python",
   "pygments_lexer": "ipython3",
   "version": "3.6.5"
  }
 },
 "nbformat": 4,
 "nbformat_minor": 1
}
